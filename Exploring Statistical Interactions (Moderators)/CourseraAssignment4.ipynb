{
 "cells": [
  {
   "cell_type": "code",
   "execution_count": 1,
   "metadata": {},
   "outputs": [],
   "source": [
    "import pandas as pd\n",
    "import numpy as np\n",
    "import statsmodels.formula.api as smf\n",
    "import seaborn\n",
    "import matplotlib.pyplot as plt\n",
    "data = pd.read_csv('nesarc_pds.csv',low_memory=False)\n",
    "# data"
   ]
  },
  {
   "cell_type": "code",
   "execution_count": 2,
   "metadata": {},
   "outputs": [],
   "source": [
    "# subset1 = data[(data['AGE']>=18) & (data['AGE']<=30)]\n",
    "subsetc1 = data.copy()\n",
    "# subsetc1"
   ]
  },
  {
   "cell_type": "code",
   "execution_count": 3,
   "metadata": {},
   "outputs": [],
   "source": [
    "subsetc1['S2AQ1'] = pd.to_numeric(subsetc1['S2AQ1'],errors='coerce')\n",
    "# subsetc1['S2AQ5A'] = pd.to_numeric(subsetc1['S2AQ5A'],errors='coerce')\n",
    "subsetc1['WEIGHT'] = pd.to_numeric(subsetc1['WEIGHT'],errors='coerce')\n",
    "# subsetc1['AGE'] = pd.to_numeric(subsetc1['AGE'],errors='coerce')"
   ]
  },
  {
   "cell_type": "code",
   "execution_count": 4,
   "metadata": {},
   "outputs": [],
   "source": [
    "sub1 = subsetc1[['S2AQ1','WEIGHT']].dropna()"
   ]
  },
  {
   "cell_type": "code",
   "execution_count": 5,
   "metadata": {},
   "outputs": [
    {
     "name": "stdout",
     "output_type": "stream",
     "text": [
      "                            OLS Regression Results                            \n",
      "==============================================================================\n",
      "Dep. Variable:                 WEIGHT   R-squared:                       0.004\n",
      "Model:                            OLS   Adj. R-squared:                  0.004\n",
      "Method:                 Least Squares   F-statistic:                     194.3\n",
      "Date:                Sat, 18 Jul 2020   Prob (F-statistic):           4.52e-44\n",
      "Time:                        20:51:47   Log-Likelihood:            -4.1253e+05\n",
      "No. Observations:               43093   AIC:                         8.251e+05\n",
      "Df Residuals:                   43091   BIC:                         8.251e+05\n",
      "Df Model:                           1                                         \n",
      "Covariance Type:            nonrobust                                         \n",
      "=================================================================================\n",
      "                    coef    std err          t      P>|t|      [0.025      0.975]\n",
      "---------------------------------------------------------------------------------\n",
      "Intercept      4937.7403     18.633    265.002      0.000    4901.220    4974.261\n",
      "C(S2AQ1)[T.2]  -593.0565     42.544    -13.940      0.000    -676.443    -509.670\n",
      "==============================================================================\n",
      "Omnibus:                    19549.777   Durbin-Watson:                   1.938\n",
      "Prob(Omnibus):                  0.000   Jarque-Bera (JB):           173283.630\n",
      "Skew:                           1.973   Prob(JB):                         0.00\n",
      "Kurtosis:                      11.996   Cond. No.                         2.65\n",
      "==============================================================================\n",
      "\n",
      "Warnings:\n",
      "[1] Standard Errors assume that the covariance matrix of the errors is correctly specified.\n",
      "means\n",
      "            WEIGHT\n",
      "S2AQ1             \n",
      "1      4937.740301\n",
      "2      4344.683828\n",
      "Standard Deviation\n",
      "            WEIGHT\n",
      "S2AQ1             \n",
      "1      3480.912372\n",
      "2      3461.805391\n"
     ]
    }
   ],
   "source": [
    "model1 = smf.ols(formula='WEIGHT ~ C(S2AQ1)',data=sub1).fit()\n",
    "print(model1.summary())\n",
    "\n",
    "print('means')\n",
    "m1 = sub1.groupby('S2AQ1').mean()\n",
    "print(m1)\n",
    "print('Standard Deviation')\n",
    "m2 = sub1.groupby('S2AQ1').std()\n",
    "print(m2)"
   ]
  },
  {
   "cell_type": "code",
   "execution_count": 6,
   "metadata": {},
   "outputs": [
    {
     "data": {
      "text/plain": [
       "Text(-2.450000000000003, 0.5, 'Final Weight')"
      ]
     },
     "execution_count": 6,
     "metadata": {},
     "output_type": "execute_result"
    },
    {
     "data": {
      "image/png": "[encoded data removed]",
      "text/plain": [
       "<Figure size 360x360 with 1 Axes>"
      ]
     },
     "metadata": {
      "needs_background": "light"
     },
     "output_type": "display_data"
    }
   ],
   "source": [
    "seaborn.catplot(x=\"S2AQ1\", y=\"WEIGHT\", data=sub1, kind=\"bar\", ci=None)\n",
    "plt.xlabel('Drank at least 1 alcoholic drink in life')\n",
    "plt.ylabel('Final Weight')"
   ]
  },
  {
   "cell_type": "code",
   "execution_count": 7,
   "metadata": {},
   "outputs": [],
   "source": [
    "# data\n",
    "data['S2AQ5A'] = pd.to_numeric(data['SOCPDX12'],errors='coerce')\n",
    "subsetc2 = data[(data['SOCPDX12']==0)]\n",
    "subsetc3 = data[(data['SOCPDX12']==1)]"
   ]
  },
  {
   "cell_type": "code",
   "execution_count": 8,
   "metadata": {},
   "outputs": [],
   "source": [
    "sub2 = subsetc2[['S2AQ1','WEIGHT']].dropna()\n",
    "sub3 = subsetc3[['S2AQ1','WEIGHT']].dropna()\n",
    "# sub3.head(20)"
   ]
  },
  {
   "cell_type": "code",
   "execution_count": 9,
   "metadata": {
    "scrolled": false
   },
   "outputs": [
    {
     "name": "stdout",
     "output_type": "stream",
     "text": [
      "                            OLS Regression Results                            \n",
      "==============================================================================\n",
      "Dep. Variable:                 WEIGHT   R-squared:                       0.005\n",
      "Model:                            OLS   Adj. R-squared:                  0.005\n",
      "Method:                 Least Squares   F-statistic:                     200.6\n",
      "Date:                Sat, 18 Jul 2020   Prob (F-statistic):           1.99e-45\n",
      "Time:                        20:51:52   Log-Likelihood:            -4.0145e+05\n",
      "No. Observations:               41934   AIC:                         8.029e+05\n",
      "Df Residuals:                   41932   BIC:                         8.029e+05\n",
      "Df Model:                           1                                         \n",
      "Covariance Type:            nonrobust                                         \n",
      "=================================================================================\n",
      "                    coef    std err          t      P>|t|      [0.025      0.975]\n",
      "---------------------------------------------------------------------------------\n",
      "Intercept      4937.1157     18.918    260.969      0.000    4900.035    4974.196\n",
      "C(S2AQ1)[T.2]  -608.7979     42.987    -14.162      0.000    -693.053    -524.543\n",
      "==============================================================================\n",
      "Omnibus:                    19167.923   Durbin-Watson:                   1.940\n",
      "Prob(Omnibus):                  0.000   Jarque-Bera (JB):           173019.694\n",
      "Skew:                           1.985   Prob(JB):                         0.00\n",
      "Kurtosis:                      12.124   Cond. No.                         2.64\n",
      "==============================================================================\n",
      "\n",
      "Warnings:\n",
      "[1] Standard Errors assume that the covariance matrix of the errors is correctly specified.\n",
      "means\n",
      "            WEIGHT\n",
      "S2AQ1             \n",
      "1      4937.115734\n",
      "2      4328.317876\n",
      "Standard Deviation\n",
      "            WEIGHT\n",
      "S2AQ1             \n",
      "1      3484.503168\n",
      "2      3454.541198\n"
     ]
    }
   ],
   "source": [
    "model2 = smf.ols(formula='WEIGHT ~ C(S2AQ1)',data=sub2).fit()\n",
    "print(model2.summary())\n",
    "\n",
    "print('means')\n",
    "m3 = sub2.groupby('S2AQ1').mean()\n",
    "print(m3)\n",
    "print('Standard Deviation')\n",
    "m4 = sub2.groupby('S2AQ1').std()\n",
    "print(m4)"
   ]
  },
  {
   "cell_type": "code",
   "execution_count": 10,
   "metadata": {},
   "outputs": [
    {
     "data": {
      "text/plain": [
       "Text(-2.450000000000003, 0.5, 'Final Weight')"
      ]
     },
     "execution_count": 10,
     "metadata": {},
     "output_type": "execute_result"
    },
    {
     "data": {
      "image/png": "[encoded data removed]",
      "text/plain": [
       "<Figure size 360x360 with 1 Axes>"
      ]
     },
     "metadata": {
      "needs_background": "light"
     },
     "output_type": "display_data"
    }
   ],
   "source": [
    "seaborn.catplot(x=\"S2AQ1\", y=\"WEIGHT\", data=sub2, kind=\"bar\", ci=None)\n",
    "plt.xlabel('Drank at least 1 alcoholic drink in life')\n",
    "plt.ylabel('Final Weight')"
   ]
  },
  {
   "cell_type": "code",
   "execution_count": 11,
   "metadata": {},
   "outputs": [
    {
     "name": "stdout",
     "output_type": "stream",
     "text": [
      "                            OLS Regression Results                            \n",
      "==============================================================================\n",
      "Dep. Variable:                 WEIGHT   R-squared:                       0.001\n",
      "Model:                            OLS   Adj. R-squared:                  0.000\n",
      "Method:                 Least Squares   F-statistic:                     1.036\n",
      "Date:                Sat, 18 Jul 2020   Prob (F-statistic):              0.309\n",
      "Time:                        20:51:53   Log-Likelihood:                -11072.\n",
      "No. Observations:                1159   AIC:                         2.215e+04\n",
      "Df Residuals:                    1157   BIC:                         2.216e+04\n",
      "Df Model:                           1                                         \n",
      "Covariance Type:            nonrobust                                         \n",
      "=================================================================================\n",
      "                    coef    std err          t      P>|t|      [0.025      0.975]\n",
      "---------------------------------------------------------------------------------\n",
      "Intercept      4958.5461    107.064     46.314      0.000    4748.485    5168.607\n",
      "C(S2AQ1)[T.2]   309.2229    303.741      1.018      0.309    -286.722     905.168\n",
      "==============================================================================\n",
      "Omnibus:                      365.524   Durbin-Watson:                   1.812\n",
      "Prob(Omnibus):                  0.000   Jarque-Bera (JB):             1288.587\n",
      "Skew:                           1.513   Prob(JB):                    1.54e-280\n",
      "Kurtosis:                       7.187   Cond. No.                         3.08\n",
      "==============================================================================\n",
      "\n",
      "Warnings:\n",
      "[1] Standard Errors assume that the covariance matrix of the errors is correctly specified.\n",
      "means\n",
      "            WEIGHT\n",
      "S2AQ1             \n",
      "1      4958.546092\n",
      "2      5267.768989\n",
      "Standard Deviation\n",
      "            WEIGHT\n",
      "S2AQ1             \n",
      "1      3360.694836\n",
      "2      3748.050051\n"
     ]
    }
   ],
   "source": [
    "model3 = smf.ols(formula='WEIGHT ~ C(S2AQ1)',data=sub3).fit()\n",
    "print(model3.summary())\n",
    "\n",
    "print('means')\n",
    "m5 = sub3.groupby('S2AQ1').mean()\n",
    "print(m5)\n",
    "print('Standard Deviation')\n",
    "m6 = sub3.groupby('S2AQ1').std()\n",
    "print(m6)"
   ]
  },
  {
   "cell_type": "code",
   "execution_count": 12,
   "metadata": {},
   "outputs": [
    {
     "data": {
      "text/plain": [
       "Text(-2.450000000000003, 0.5, 'Final Weight')"
      ]
     },
     "execution_count": 12,
     "metadata": {},
     "output_type": "execute_result"
    },
    {
     "data": {
      "image/png": "[encoded data removed]",
      "text/plain": [
       "<Figure size 360x360 with 1 Axes>"
      ]
     },
     "metadata": {
      "needs_background": "light"
     },
     "output_type": "display_data"
    }
   ],
   "source": [
    "seaborn.catplot(x=\"S2AQ1\", y=\"WEIGHT\", data=sub3, kind=\"bar\", ci=None)\n",
    "plt.xlabel('Drank at least 1 alcoholic drink in life')\n",
    "plt.ylabel('Final Weight')"
   ]
  },
  {
   "cell_type": "code",
   "execution_count": null,
   "metadata": {},
   "outputs": [],
   "source": []
  }
 ],
 "metadata": {
  "kernelspec": {
   "display_name": "Python 3",
   "language": "python",
   "name": "python3"
  },
  "language_info": {
   "codemirror_mode": {
    "name": "ipython",
    "version": 3
   },
   "file_extension": ".py",
   "mimetype": "text/x-python",
   "name": "python",
   "nbconvert_exporter": "python",
   "pygments_lexer": "ipython3",
   "version": "3.7.6"
  }
 },
 "nbformat": 4,
 "nbformat_minor": 4
}
